{
 "cells": [
  {
   "cell_type": "markdown",
   "metadata": {},
   "source": [
    "# Laboratorium 1: Self-Organized Criticality"
   ]
  },
  {
   "cell_type": "code",
   "execution_count": 1,
   "metadata": {},
   "outputs": [],
   "source": [
    "import matplotlib.pyplot as plt\n",
    "import numpy as np\n",
    "import pandas as pd\n",
    "import random\n",
    "import imageio\n",
    "import glob\n",
    "from typing import Callable\n",
    "\n",
    "random.seed()\n"
   ]
  },
  {
   "cell_type": "code",
   "execution_count": 8,
   "metadata": {},
   "outputs": [],
   "source": [
    "\n",
    "def VonNeumann(x, y):\n",
    "    return [(x-1, y), (x, y-1), (x+1, y), (x, y+1)]\n",
    "\n",
    "\n",
    "def Moore(x, y):\n",
    "    return [(x-1, y+1), (x-1, y), (x-1, y-1), (x, y+1),(x, y-1), (x+1, y-1), (x+1, y), (x+1, y+1)]\n",
    "\n",
    "\n",
    "def Manhattan(x, y):\n",
    "    return [(x-2, y), (x, y-2), (x+2, y), (x, y+2), (x-1, y+1), (x-1, y), (x-1, y-1), (x, y+1),(x, y-1), (x+1, y-1), (x+1, y), (x+1, y+1)]\n",
    "\n",
    "\n",
    "def generate_gif(sim_id: int, fps: int, iter: int = None):\n",
    "    path = f'./images/sim_{sim_id}/*' if iter is None else f'./images/sim_{sim_id}/{iter:05}*'\n",
    "    gif = f'./simulation_{sim_id}.gif' if iter is None else f'./simulation_{sim_id}_{iter}.gif'\n",
    "    with imageio.get_writer(gif, mode='I', fps=fps) as writer:\n",
    "        for filename in sorted(glob.glob(path)):\n",
    "            image = imageio.imread(filename)\n",
    "            writer.append_data(image)\n",
    "\n",
    "\n",
    "def save_grid(sim_id: int, img: np.typing.ArrayLike, i: int, time: int):\n",
    "    # 'upscale' grid to 400x400\n",
    "    plt.imsave(f'./images/sim_{sim_id}/{i:05}_{time:05}.png',\n",
    "               img, cmap='binary', vmin=0, vmax=3)\n"
   ]
  },
  {
   "cell_type": "code",
   "execution_count": 3,
   "metadata": {},
   "outputs": [],
   "source": [
    "def run_sim(sim_id: int,\n",
    "            grid_size: int,\n",
    "            iterations: int,\n",
    "            limit: int = 4,\n",
    "            neighborhood: Callable = VonNeumann,\n",
    "            img: bool = True) -> list[tuple[int, int, int]]:\n",
    "    \n",
    "    grid = np.zeros(shape=(grid_size, grid_size))\n",
    "    avalanches = []\n",
    "    scale = 400//grid_size\n",
    "    upscale = np.ones((scale, scale))\n",
    "\n",
    "    def collapse(neighbours: set[tuple[int, int]], time: int, size: int, i: int) -> tuple[int, int]:\n",
    "        if len(neighbours) == 0:\n",
    "            return (time, size)\n",
    "\n",
    "        def in_grid(c):\n",
    "            nx, ny = c\n",
    "            return nx >= 0 and ny >= 0 and nx < grid_size and ny < grid_size\n",
    "        neighbours = list(filter(in_grid, neighbours))\n",
    "\n",
    "        time += 1\n",
    "\n",
    "        new_neighbours = set()\n",
    "        for nx, ny in neighbours:\n",
    "            grid[nx][ny] += 1\n",
    "\n",
    "        for nx, ny in neighbours:\n",
    "            h = grid[nx][ny]\n",
    "            if h > limit - 1:\n",
    "                grid[nx][ny] = 0\n",
    "                new_neighbours.update(neighborhood(nx, ny))\n",
    "                size += 1\n",
    "\n",
    "        if img:\n",
    "            save_grid(sim_id, np.kron(grid, upscale), i, time)\n",
    "\n",
    "        return collapse(new_neighbours, time, size, i)\n",
    "\n",
    "    for i in range(iterations):\n",
    "        x = random.randrange(grid_size)\n",
    "        y = random.randrange(grid_size)\n",
    "\n",
    "        neighbours = []\n",
    "        h = grid[x][y] + 1\n",
    "        if h > limit - 1:\n",
    "            grid[x][y] = 0\n",
    "            neighbours = set(neighborhood(x, y))\n",
    "        else:\n",
    "            grid[x][y] = h\n",
    "\n",
    "        if img:\n",
    "            save_grid(sim_id, np.kron(grid, upscale), i, 0)\n",
    "\n",
    "        if len(neighbours) > 0:\n",
    "            time, size = collapse(neighbours, 0, 1, i)\n",
    "            avalanches.append((time, size, i))\n",
    "\n",
    "    return avalanches"
   ]
  },
  {
   "cell_type": "code",
   "execution_count": null,
   "metadata": {},
   "outputs": [],
   "source": [
    "sim_id = 17\n",
    "run_sim(sim_id,10,400)\n",
    "generate_gif(sim_id,2)"
   ]
  },
  {
   "cell_type": "markdown",
   "metadata": {},
   "source": [
    "![sim_17](./simulation_17.gif)"
   ]
  },
  {
   "cell_type": "code",
   "execution_count": 138,
   "metadata": {},
   "outputs": [
    {
     "name": "stderr",
     "output_type": "stream",
     "text": [
      "/tmp/ipykernel_48683/2879644668.py:11: DeprecationWarning: Starting with ImageIO v3 the behavior of this function will switch to that of iio.v3.imread. To keep the current behavior (and make this warning dissapear) use `import imageio.v2 as imageio` or call `imageio.v2.imread` directly.\n",
      "  image = imageio.imread(filename)\n"
     ]
    }
   ],
   "source": [
    "sim_id = 19\n",
    "run_sim(sim_id,100,30000)\n",
    "generate_gif(sim_id,10)\n"
   ]
  },
  {
   "cell_type": "markdown",
   "metadata": {},
   "source": [
    "![sim_19](./simulation_19.gif)"
   ]
  },
  {
   "cell_type": "code",
   "execution_count": 7,
   "metadata": {},
   "outputs": [],
   "source": [
    "avalanches = []\n",
    "for i in range(100):\n",
    "    avalanches += run_sim(i, 10, 100000, img=False)\n"
   ]
  },
  {
   "cell_type": "code",
   "execution_count": 186,
   "metadata": {},
   "outputs": [
    {
     "data": {
      "image/png": "[encoded data removed]",
      "text/plain": [
       "<Figure size 640x480 with 1 Axes>"
      ]
     },
     "metadata": {},
     "output_type": "display_data"
    },
    {
     "name": "stdout",
     "output_type": "stream",
     "text": [
      "α = -3.5977468556185044\n"
     ]
    }
   ],
   "source": [
    "times, sizes, iterations = zip(*avalanches)\n",
    "\n",
    "size_occurrences = pd.value_counts(np.array(sizes))\n",
    "\n",
    "x = np.array(size_occurrences.index)\n",
    "y = np.array(size_occurrences.values)\n",
    "\n",
    "m, b = np.polyfit(np.log(x), np.log(y), 1)\n",
    "\n",
    "plt.plot(x, y, 'o')\n",
    "plt.plot(x, np.e**(m*np.log(x) + b))\n",
    "plt.yscale('log')\n",
    "plt.xscale('log')\n",
    "plt.show()\n",
    "print(f'α = {m}')"
   ]
  },
  {
   "cell_type": "markdown",
   "metadata": {},
   "source": [
    "Wyznaczona zależność jest potęgowa, według uzyskanego α `N(s)~1/s^3`."
   ]
  },
  {
   "cell_type": "markdown",
   "metadata": {},
   "source": [
    "Dla kratownicy o rozmiarze 10x10 po około 250 iteracjach regularnie co kilkanaście iteracji występują lawiny o wielkości co najmniej 5.\n",
    "\n",
    "![17_249](./images/sim_17/00249_00000.png)\n",
    "\n",
    "Dla kratownicy o rozmiarze 100x100 po około 21000 iteracjach regularnie co kilkanaście iteracji występują lawiny o wielkości co najmniej 10.\n",
    "\n",
    "![19_21529](./images/sim_19/21592_00009.png)\n"
   ]
  },
  {
   "cell_type": "code",
   "execution_count": 4,
   "metadata": {},
   "outputs": [
    {
     "name": "stderr",
     "output_type": "stream",
     "text": [
      "/tmp/ipykernel_206077/2200186350.py:19: DeprecationWarning: Starting with ImageIO v3 the behavior of this function will switch to that of iio.v3.imread. To keep the current behavior (and make this warning dissapear) use `import imageio.v2 as imageio` or call `imageio.v2.imread` directly.\n",
      "  image = imageio.imread(filename)\n"
     ]
    }
   ],
   "source": [
    "generate_gif(19,2,29926)\n",
    "generate_gif(19,2,29930)\n",
    "generate_gif(19,2,29899)\n",
    "generate_gif(19,2,29894)\n",
    "generate_gif(19,2,29877)"
   ]
  },
  {
   "cell_type": "code",
   "execution_count": 5,
   "metadata": {},
   "outputs": [
    {
     "name": "stderr",
     "output_type": "stream",
     "text": [
      "/tmp/ipykernel_206077/2200186350.py:19: DeprecationWarning: Starting with ImageIO v3 the behavior of this function will switch to that of iio.v3.imread. To keep the current behavior (and make this warning dissapear) use `import imageio.v2 as imageio` or call `imageio.v2.imread` directly.\n",
      "  image = imageio.imread(filename)\n"
     ]
    }
   ],
   "source": [
    "generate_gif(17,2,399)\n",
    "generate_gif(17,2,316)\n",
    "generate_gif(17,2,296)\n",
    "generate_gif(17,2,311)\n",
    "generate_gif(17,2,346)"
   ]
  },
  {
   "cell_type": "markdown",
   "metadata": {},
   "source": [
    "Kratownica 10x10, lawina o rozmiarze 12:\n",
    "\n",
    "![av0](./simulation_17_296.gif)\n",
    "\n",
    "Kratownica 10x10, lawina o rozmiarze 8:\n",
    "\n",
    "![av1](./simulation_17_311.gif)\n",
    "\n",
    "Kratownica 10x10, lawina o rozmiarze 10:\n",
    "\n",
    "![av2](./simulation_17_316.gif)\n",
    "\n",
    "Kratownica 10x10, lawina o rozmiarze 6:\n",
    "\n",
    "![av3](./simulation_17_346.gif)\n",
    "\n",
    "Kratownica 10x10, lawina o rozmiarze 7:\n",
    "\n",
    "![av4](./simulation_17_399.gif)\n",
    "\n",
    "Kratownica 100x100, lawina o rozmiarze 11:\n",
    "\n",
    "![av5](./simulation_19_29877.gif)\n",
    "\n",
    "Kratownica 100x100, lawina o rozmiarze 10:\n",
    "\n",
    "![av6](./simulation_19_29894.gif)\n",
    "\n",
    "Kratownica 100x100, lawina o rozmiarze 11:\n",
    "\n",
    "![av7](./simulation_19_29899.gif)\n",
    "\n",
    "Kratownica 100x100, lawina o rozmiarze 19:\n",
    "\n",
    "![av8](./simulation_19_29926.gif)\n",
    "\n",
    "Kratownica 100x100, lawina o rozmiarze 11:\n",
    "\n",
    "![av9](./simulation_19_29930.gif)"
   ]
  },
  {
   "cell_type": "code",
   "execution_count": 9,
   "metadata": {},
   "outputs": [
    {
     "data": {
      "image/png": "[encoded data removed]",
      "text/plain": [
       "<Figure size 640x480 with 1 Axes>"
      ]
     },
     "metadata": {},
     "output_type": "display_data"
    },
    {
     "name": "stdout",
     "output_type": "stream",
     "text": [
      "α = -2.8631294182059275\n"
     ]
    }
   ],
   "source": [
    "avalanches = []\n",
    "for i in range(100):\n",
    "    avalanches += run_sim(i, 10, 100000, limit=6, neighborhood=Moore, img=False)\n",
    "\n",
    "times, sizes, iterations = zip(*avalanches)\n",
    "\n",
    "size_occurrences = pd.value_counts(np.array(sizes))\n",
    "\n",
    "x = np.array(size_occurrences.index)\n",
    "y = np.array(size_occurrences.values)\n",
    "\n",
    "m, b = np.polyfit(np.log(x), np.log(y), 1)\n",
    "\n",
    "plt.plot(x, y, 'o')\n",
    "plt.plot(x, np.e**(m*np.log(x) + b))\n",
    "plt.yscale('log')\n",
    "plt.xscale('log')\n",
    "plt.show()\n",
    "print(f'α = {m}')"
   ]
  },
  {
   "cell_type": "code",
   "execution_count": 10,
   "metadata": {},
   "outputs": [
    {
     "data": {
      "image/png": "[encoded data removed]",
      "text/plain": [
       "<Figure size 640x480 with 1 Axes>"
      ]
     },
     "metadata": {},
     "output_type": "display_data"
    },
    {
     "name": "stdout",
     "output_type": "stream",
     "text": [
      "α = -2.9565535618265804\n"
     ]
    }
   ],
   "source": [
    "avalanches = []\n",
    "for i in range(100):\n",
    "    avalanches += run_sim(i, 10, 100000, limit=10, neighborhood=Manhattan, img=False)\n",
    "\n",
    "times, sizes, iterations = zip(*avalanches)\n",
    "\n",
    "size_occurrences = pd.value_counts(np.array(sizes))\n",
    "\n",
    "x = np.array(size_occurrences.index)\n",
    "y = np.array(size_occurrences.values)\n",
    "\n",
    "m, b = np.polyfit(np.log(x), np.log(y), 1)\n",
    "\n",
    "plt.plot(x, y, 'o')\n",
    "plt.plot(x, np.e**(m*np.log(x) + b))\n",
    "plt.yscale('log')\n",
    "plt.xscale('log')\n",
    "plt.show()\n",
    "print(f'α = {m}')"
   ]
  },
  {
   "cell_type": "markdown",
   "metadata": {},
   "source": [
    "Niezależnie od parametrów modelu wartość α pozostaje w okolicach 3."
   ]
  }
 ],
 "metadata": {
  "kernelspec": {
   "display_name": "Python 3.10.6 64-bit",
   "language": "python",
   "name": "python3"
  },
  "language_info": {
   "codemirror_mode": {
    "name": "ipython",
    "version": 3
   },
   "file_extension": ".py",
   "mimetype": "text/x-python",
   "name": "python",
   "nbconvert_exporter": "python",
   "pygments_lexer": "ipython3",
   "version": "3.10.6"
  },
  "orig_nbformat": 4,
  "vscode": {
   "interpreter": {
    "hash": "31f2aee4e71d21fbe5cf8b01ff0e069b9275f58929596ceb00d14d90e3e16cd6"
   }
  }
 },
 "nbformat": 4,
 "nbformat_minor": 2
}
